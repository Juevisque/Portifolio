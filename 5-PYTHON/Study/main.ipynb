{
 "cells": [
  {
   "cell_type": "code",
   "execution_count": 1,
   "metadata": {},
   "outputs": [
    {
     "ename": "NoSuchElementException",
     "evalue": "Message: no such element: Unable to locate element: {\"method\":\"xpath\",\"selector\":\"/html/body/div[1]/div[3]/form/div[1]/div[1]/div[1]/div/div[2]/input\"}\n  (Session info: chrome=116.0.5845.96); For documentation on this error, please visit: https://www.selenium.dev/documentation/webdriver/troubleshooting/errors#no-such-element-exception\nStacktrace:\n\tGetHandleVerifier [0x00007FF731DA52A2+57122]\n\t(No symbol) [0x00007FF731D1EA92]\n\t(No symbol) [0x00007FF731BEE3AB]\n\t(No symbol) [0x00007FF731C27D3E]\n\t(No symbol) [0x00007FF731C27E2C]\n\t(No symbol) [0x00007FF731C60B67]\n\t(No symbol) [0x00007FF731C4701F]\n\t(No symbol) [0x00007FF731C5EB82]\n\t(No symbol) [0x00007FF731C46DB3]\n\t(No symbol) [0x00007FF731C1D2B1]\n\t(No symbol) [0x00007FF731C1E494]\n\tGetHandleVerifier [0x00007FF73204EF82+2849794]\n\tGetHandleVerifier [0x00007FF7320A1D24+3189156]\n\tGetHandleVerifier [0x00007FF73209ACAF+3160367]\n\tGetHandleVerifier [0x00007FF731E36D06+653702]\n\t(No symbol) [0x00007FF731D2A208]\n\t(No symbol) [0x00007FF731D262C4]\n\t(No symbol) [0x00007FF731D263F6]\n\t(No symbol) [0x00007FF731D167A3]\n\tBaseThreadInitThunk [0x00007FFAD6907614+20]\n\tRtlUserThreadStart [0x00007FFAD83226B1+33]\n",
     "output_type": "error",
     "traceback": [
      "\u001b[1;31m---------------------------------------------------------------------------\u001b[0m",
      "\u001b[1;31mNoSuchElementException\u001b[0m                    Traceback (most recent call last)",
      "Cell \u001b[1;32mIn[1], line 20\u001b[0m\n\u001b[0;32m     17\u001b[0m navegador\u001b[39m.\u001b[39mget(\u001b[39m\"\u001b[39m\u001b[39mhttps://www.google.com/\u001b[39m\u001b[39m\"\u001b[39m)\n\u001b[0;32m     19\u001b[0m \u001b[39m# Passo 1: Pegar a cotação do Dólar\u001b[39;00m\n\u001b[1;32m---> 20\u001b[0m navegador\u001b[39m.\u001b[39;49mfind_element(By\u001b[39m.\u001b[39;49mXPATH,\n\u001b[0;32m     21\u001b[0m     \u001b[39m'\u001b[39;49m\u001b[39m/html/body/div[1]/div[3]/form/div[1]/div[1]/div[1]/div/div[2]/input\u001b[39;49m\u001b[39m'\u001b[39;49m)\u001b[39m.\u001b[39msend_keys(\u001b[39m\"\u001b[39m\u001b[39mcotação dólar\u001b[39m\u001b[39m\"\u001b[39m)\n\u001b[0;32m     23\u001b[0m navegador\u001b[39m.\u001b[39mfind_element(By\u001b[39m.\u001b[39mXPATH,\n\u001b[0;32m     24\u001b[0m     \u001b[39m'\u001b[39m\u001b[39m/html/body/div[1]/div[3]/form/div[1]/div[1]/div[1]/div/div[2]/input\u001b[39m\u001b[39m'\u001b[39m)\u001b[39m.\u001b[39msend_keys(Keys\u001b[39m.\u001b[39mENTER)\n\u001b[0;32m     26\u001b[0m cotacao_dolar \u001b[39m=\u001b[39m navegador\u001b[39m.\u001b[39mfind_element(By\u001b[39m.\u001b[39mXPATH,\n\u001b[0;32m     27\u001b[0m     \u001b[39m'\u001b[39m\u001b[39m//*[@id=\u001b[39m\u001b[39m\"\u001b[39m\u001b[39mknowledge-currency__updatable-data-column\u001b[39m\u001b[39m\"\u001b[39m\u001b[39m]/div[1]/div[2]/span[1]\u001b[39m\u001b[39m'\u001b[39m)\u001b[39m.\u001b[39mget_attribute(\u001b[39m\"\u001b[39m\u001b[39mdata-value\u001b[39m\u001b[39m\"\u001b[39m) \n",
      "File \u001b[1;32mc:\\Users\\joaol\\AppData\\Local\\Programs\\Python\\Python311\\Lib\\site-packages\\selenium\\webdriver\\remote\\webdriver.py:738\u001b[0m, in \u001b[0;36mWebDriver.find_element\u001b[1;34m(self, by, value)\u001b[0m\n\u001b[0;32m    735\u001b[0m     by \u001b[39m=\u001b[39m By\u001b[39m.\u001b[39mCSS_SELECTOR\n\u001b[0;32m    736\u001b[0m     value \u001b[39m=\u001b[39m \u001b[39mf\u001b[39m\u001b[39m'\u001b[39m\u001b[39m[name=\u001b[39m\u001b[39m\"\u001b[39m\u001b[39m{\u001b[39;00mvalue\u001b[39m}\u001b[39;00m\u001b[39m\"\u001b[39m\u001b[39m]\u001b[39m\u001b[39m'\u001b[39m\n\u001b[1;32m--> 738\u001b[0m \u001b[39mreturn\u001b[39;00m \u001b[39mself\u001b[39;49m\u001b[39m.\u001b[39;49mexecute(Command\u001b[39m.\u001b[39;49mFIND_ELEMENT, {\u001b[39m\"\u001b[39;49m\u001b[39musing\u001b[39;49m\u001b[39m\"\u001b[39;49m: by, \u001b[39m\"\u001b[39;49m\u001b[39mvalue\u001b[39;49m\u001b[39m\"\u001b[39;49m: value})[\u001b[39m\"\u001b[39m\u001b[39mvalue\u001b[39m\u001b[39m\"\u001b[39m]\n",
      "File \u001b[1;32mc:\\Users\\joaol\\AppData\\Local\\Programs\\Python\\Python311\\Lib\\site-packages\\selenium\\webdriver\\remote\\webdriver.py:344\u001b[0m, in \u001b[0;36mWebDriver.execute\u001b[1;34m(self, driver_command, params)\u001b[0m\n\u001b[0;32m    342\u001b[0m response \u001b[39m=\u001b[39m \u001b[39mself\u001b[39m\u001b[39m.\u001b[39mcommand_executor\u001b[39m.\u001b[39mexecute(driver_command, params)\n\u001b[0;32m    343\u001b[0m \u001b[39mif\u001b[39;00m response:\n\u001b[1;32m--> 344\u001b[0m     \u001b[39mself\u001b[39;49m\u001b[39m.\u001b[39;49merror_handler\u001b[39m.\u001b[39;49mcheck_response(response)\n\u001b[0;32m    345\u001b[0m     response[\u001b[39m\"\u001b[39m\u001b[39mvalue\u001b[39m\u001b[39m\"\u001b[39m] \u001b[39m=\u001b[39m \u001b[39mself\u001b[39m\u001b[39m.\u001b[39m_unwrap_value(response\u001b[39m.\u001b[39mget(\u001b[39m\"\u001b[39m\u001b[39mvalue\u001b[39m\u001b[39m\"\u001b[39m, \u001b[39mNone\u001b[39;00m))\n\u001b[0;32m    346\u001b[0m     \u001b[39mreturn\u001b[39;00m response\n",
      "File \u001b[1;32mc:\\Users\\joaol\\AppData\\Local\\Programs\\Python\\Python311\\Lib\\site-packages\\selenium\\webdriver\\remote\\errorhandler.py:229\u001b[0m, in \u001b[0;36mErrorHandler.check_response\u001b[1;34m(self, response)\u001b[0m\n\u001b[0;32m    227\u001b[0m         alert_text \u001b[39m=\u001b[39m value[\u001b[39m\"\u001b[39m\u001b[39malert\u001b[39m\u001b[39m\"\u001b[39m]\u001b[39m.\u001b[39mget(\u001b[39m\"\u001b[39m\u001b[39mtext\u001b[39m\u001b[39m\"\u001b[39m)\n\u001b[0;32m    228\u001b[0m     \u001b[39mraise\u001b[39;00m exception_class(message, screen, stacktrace, alert_text)  \u001b[39m# type: ignore[call-arg]  # mypy is not smart enough here\u001b[39;00m\n\u001b[1;32m--> 229\u001b[0m \u001b[39mraise\u001b[39;00m exception_class(message, screen, stacktrace)\n",
      "\u001b[1;31mNoSuchElementException\u001b[0m: Message: no such element: Unable to locate element: {\"method\":\"xpath\",\"selector\":\"/html/body/div[1]/div[3]/form/div[1]/div[1]/div[1]/div/div[2]/input\"}\n  (Session info: chrome=116.0.5845.96); For documentation on this error, please visit: https://www.selenium.dev/documentation/webdriver/troubleshooting/errors#no-such-element-exception\nStacktrace:\n\tGetHandleVerifier [0x00007FF731DA52A2+57122]\n\t(No symbol) [0x00007FF731D1EA92]\n\t(No symbol) [0x00007FF731BEE3AB]\n\t(No symbol) [0x00007FF731C27D3E]\n\t(No symbol) [0x00007FF731C27E2C]\n\t(No symbol) [0x00007FF731C60B67]\n\t(No symbol) [0x00007FF731C4701F]\n\t(No symbol) [0x00007FF731C5EB82]\n\t(No symbol) [0x00007FF731C46DB3]\n\t(No symbol) [0x00007FF731C1D2B1]\n\t(No symbol) [0x00007FF731C1E494]\n\tGetHandleVerifier [0x00007FF73204EF82+2849794]\n\tGetHandleVerifier [0x00007FF7320A1D24+3189156]\n\tGetHandleVerifier [0x00007FF73209ACAF+3160367]\n\tGetHandleVerifier [0x00007FF731E36D06+653702]\n\t(No symbol) [0x00007FF731D2A208]\n\t(No symbol) [0x00007FF731D262C4]\n\t(No symbol) [0x00007FF731D263F6]\n\t(No symbol) [0x00007FF731D167A3]\n\tBaseThreadInitThunk [0x00007FFAD6907614+20]\n\tRtlUserThreadStart [0x00007FFAD83226B1+33]\n"
     ]
    }
   ],
   "source": [
    "from selenium import webdriver\n",
    "from selenium.webdriver.common.keys import Keys\n",
    "from selenium.webdriver.common.by import By\n",
    "\n",
    "# para rodar o chrome em 2º plano\n",
    "# from selenium.webdriver.chrome.options import Options\n",
    "# chrome_options = Options()\n",
    "# chrome_options.headless = True \n",
    "# navegador = webdriver.Chrome(options=chrome_options)\n",
    "\n",
    "# abrir um navegador\n",
    "navegador = webdriver.Chrome()\n",
    "# caso queira deixar na mesma pasta do seu código\n",
    "# navegador = webdriver.Chrome(\"chromedriver.exe\")\n",
    "\n",
    "\n",
    "navegador.get(\"https://www.google.com/\")\n",
    "\n",
    "# Passo 1: Pegar a cotação do Dólar\n",
    "navegador.find_element(By.XPATH,\n",
    "    '/html/body/div[1]/div[3]/form/div[1]/div[1]/div[1]/div/div[2]/input').send_keys(\"cotação dólar\")\n",
    "\n",
    "navegador.find_element(By.XPATH,\n",
    "    '/html/body/div[1]/div[3]/form/div[1]/div[1]/div[1]/div/div[2]/input').send_keys(Keys.ENTER)\n",
    "\n",
    "cotacao_dolar = navegador.find_element(By.XPATH,\n",
    "    '//*[@id=\"knowledge-currency__updatable-data-column\"]/div[1]/div[2]/span[1]').get_attribute(\"data-value\") \n",
    "print(cotacao_dolar)\n",
    "\n",
    "# Passo 2: Pegar a cotação do Euro\n",
    "navegador.get(\"https://www.google.com/\")\n",
    "navegador.find_element(By.XPATH,\n",
    "    '/html/body/div[1]/div[3]/form/div[1]/div[1]/div[1]/div/div[2]/input').send_keys(\"cotação euro\")\n",
    "navegador.find_element(By.XPATH,\n",
    "    '/html/body/div[1]/div[3]/form/div[1]/div[1]/div[1]/div/div[2]/input').send_keys(Keys.ENTER)\n",
    "\n",
    "cotacao_euro = navegador.find_element(By.XPATH,\n",
    "    '//*[@id=\"knowledge-currency__updatable-data-column\"]/div[1]/div[2]/span[1]').get_attribute(\"data-value\")\n",
    "print(cotacao_euro)\n",
    "\n",
    "# Passo 3: Pegar a cotação do Ouro\n",
    "navegador.get(\"https://www.melhorcambio.com/ouro-hoje\")\n",
    "\n",
    "cotacao_ouro = navegador.find_element(By.XPATH, '//*[@id=\"comercial\"]').get_attribute(\"value\")\n",
    "cotacao_ouro = cotacao_ouro.replace(\",\", \".\")\n",
    "print(cotacao_ouro)\n",
    "\n",
    "navegador.quit()"
   ]
  }
 ],
 "metadata": {
  "kernelspec": {
   "display_name": "Python 3",
   "language": "python",
   "name": "python3"
  },
  "language_info": {
   "codemirror_mode": {
    "name": "ipython",
    "version": 3
   },
   "file_extension": ".py",
   "mimetype": "text/x-python",
   "name": "python",
   "nbconvert_exporter": "python",
   "pygments_lexer": "ipython3",
   "version": "3.11.4"
  },
  "orig_nbformat": 4
 },
 "nbformat": 4,
 "nbformat_minor": 2
}
